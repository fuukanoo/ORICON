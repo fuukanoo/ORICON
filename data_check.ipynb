{
  "cells": [
    {
      "cell_type": "raw",
      "metadata": {
        "vscode": {
          "languageId": "raw"
        }
      },
      "source": [
        "# データサイズ確認\n",
        "定額動画配信.xlsxファイルの実際のデータ数を確認\n"
      ]
    },
    {
      "cell_type": "code",
      "execution_count": null,
      "metadata": {},
      "outputs": [],
      "source": [
        "import pandas as pd\n",
        "import numpy as np\n",
        "\n",
        "# Excelファイルを読み込み\n",
        "file_path = './data/定額制動画配信.xlsx'\n",
        "xls = pd.ExcelFile(file_path)\n",
        "\n",
        "print(\"シート名一覧:\")\n",
        "print(xls.sheet_names)\n",
        "\n",
        "# dataシートを読み込み\n",
        "df = pd.read_excel(xls, sheet_name='data')\n",
        "format_df = pd.read_excel(xls, sheet_name='Format')\n",
        "\n",
        "print(f\"\\n=== dataシートの情報 ===\")\n",
        "print(f\"行数: {len(df)}\")\n",
        "print(f\"列数: {len(df.columns)}\")\n",
        "print(f\"データ形状: {df.shape}\")\n",
        "\n",
        "print(f\"\\n=== 列名の最初の10個 ===\")\n",
        "print(df.columns[:10].tolist())\n",
        "\n",
        "print(f\"\\n=== データの先頭5行 ===\")\n",
        "print(df.head())\n",
        "\n",
        "print(f\"\\n=== SQ6_2の値の分布（最もよく使っているサービス） ===\")\n",
        "print(df['SQ6_2'].value_counts().sort_index())\n",
        "\n",
        "print(f\"\\n=== Formatシートの情報 ===\")\n",
        "print(f\"行数: {len(format_df)}\")\n",
        "print(f\"列数: {len(format_df.columns)}\")\n",
        "print(format_df.head(10))\n"
      ]
    }
  ],
  "metadata": {
    "language_info": {
      "name": "python"
    }
  },
  "nbformat": 4,
  "nbformat_minor": 2
}
